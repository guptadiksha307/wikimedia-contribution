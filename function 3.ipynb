{
 "cells": [
  {
   "cell_type": "code",
   "execution_count": 11,
   "metadata": {},
   "outputs": [
    {
     "name": "stdout",
     "output_type": "stream",
     "text": [
      "[2.0, 2.2, 2.8]\n"
     ]
    }
   ],
   "source": [
    "#Testing with the given example..\n",
    "\n",
    "import numpy as np\n",
    "claims=[('P1','Q1'), ('P1', 'Q2'), ('P2','' )]\n",
    "embeddings={'P1': [1, 2, 3], 'P2': [4, 5, 6], 'Q1': [3, 2, 1], 'Q2': [1, 0, 1]}\n",
    "count=0\n",
    "value=[]\n",
    "for x in claims:\n",
    "    for y in x:\n",
    "        \n",
    "        if(y!=''):\n",
    "            count=count+1\n",
    "            value.append(list(embeddings[y]))\n",
    "            \n",
    "res = list()\n",
    "doc_embedding=[]\n",
    "\n",
    "for j in range(0, len(value[0])): \n",
    "    tmp = 0\n",
    "    for i in range(0, len(value)): \n",
    "        tmp = tmp + value[i][j] \n",
    "    res.append(float(tmp))\n",
    "    \n",
    "for k in res:\n",
    "    doc_embedding.append(k/count)\n",
    "    \n",
    "print(doc_embedding)\n"
   ]
  },
  {
   "cell_type": "code",
   "execution_count": 7,
   "metadata": {},
   "outputs": [],
   "source": [
    "#Main Method \n",
    "# If there is no embedding for a given property (P#) or entity (Q#) then an embedding of 0s\n",
    "# ([0.0, 0.0, 0.0] is used as part of the averaging.\n",
    "import numpy as np\n",
    "def claims_to_doc_embedding(claims, embeddings):\n",
    "    count=0\n",
    "    start=True\n",
    "    embedding_Sum=[]\n",
    "    for x in claims:\n",
    "        for y in x:\n",
    "            if(y!=''):\n",
    "                count=count+1\n",
    "                if y in embeddings :\n",
    "                    if start or count==1:\n",
    "                        embedding_Sum=np.array(embeddings[y])\n",
    "                        start=False\n",
    "                    else:\n",
    "                        embedding_Sum=np.add(embedding_Sum,np.array(embeddings[y]))\n",
    "       \n",
    "    doc_embedding=np.divide(embedding_Sum,float(count))\n",
    "    return list(doc_embedding)\n",
    " "
   ]
  },
  {
   "cell_type": "code",
   "execution_count": 8,
   "metadata": {},
   "outputs": [
    {
     "name": "stdout",
     "output_type": "stream",
     "text": [
      "[2.0, 2.2, 2.8]\n"
     ]
    }
   ],
   "source": [
    "    \n",
    "doc_embedding=claims_to_doc_embedding(([('P1','Q1'), ('P1', 'Q2'), ('P2','' )]),({'P1': [1, 2, 3], 'P2': [4, 5, 6], 'Q1': [3, 2, 1], 'Q2': [1, 0, 1]}))\n",
    "print(doc_embedding) "
   ]
  },
  {
   "cell_type": "code",
   "execution_count": 13,
   "metadata": {},
   "outputs": [
    {
     "name": "stdout",
     "output_type": "stream",
     "text": [
      "[1.8, 2.2, 2.6]\n"
     ]
    }
   ],
   "source": [
    "#Not giving Q2 in embedding and checking if it adds [0.0,0.0,0.0] in the average instead of [1,0,1].\n",
    "doc_embedding=claims_to_doc_embedding(([('P1','Q1'), ('P1', 'Q2'), ('P2','' )]),({'P1': [1, 2, 3], 'P2': [4, 5, 6], 'Q1': [3, 2, 1]}))\n",
    "print(doc_embedding) \n",
    "#its working as expected!!"
   ]
  },
  {
   "cell_type": "code",
   "execution_count": 14,
   "metadata": {},
   "outputs": [
    {
     "name": "stdout",
     "output_type": "stream",
     "text": [
      "Collecting fasttext\n",
      "  Using cached https://files.pythonhosted.org/packages/10/61/2e01f1397ec533756c1d893c22d9d5ed3fce3a6e4af1976e0d86bb13ea97/fasttext-0.9.1.tar.gz\n",
      "Requirement already satisfied: numpy in /srv/paws/lib/python3.6/site-packages (from fasttext)\n",
      "Requirement already satisfied: pybind11>=2.2 in /srv/paws/lib/python3.6/site-packages (from fasttext)\n",
      "Requirement already satisfied: setuptools>=0.7.0 in /srv/paws/lib/python3.6/site-packages (from fasttext)\n",
      "Building wheels for collected packages: fasttext\n",
      "  Running setup.py bdist_wheel for fasttext ... \u001b[?25lerror\n",
      "  Complete output from command /srv/paws/bin/python3.6 -u -c \"import setuptools, tokenize;__file__='/tmp/pip-build-demwd2rn/fasttext/setup.py';f=getattr(tokenize, 'open', open)(__file__);code=f.read().replace('\\r\\n', '\\n');f.close();exec(compile(code, __file__, 'exec'))\" bdist_wheel -d /tmp/tmp65swjc2ypip-wheel- --python-tag cp36:\n",
      "  usage: -c [global_opts] cmd1 [cmd1_opts] [cmd2 [cmd2_opts] ...]\n",
      "     or: -c --help [cmd1 cmd2 ...]\n",
      "     or: -c --help-commands\n",
      "     or: -c cmd --help\n",
      "  \n",
      "  error: invalid command 'bdist_wheel'\n",
      "  \n",
      "  ----------------------------------------\n",
      "\u001b[31m  Failed building wheel for fasttext\u001b[0m\n",
      "\u001b[?25h  Running setup.py clean for fasttext\n",
      "Failed to build fasttext\n",
      "Installing collected packages: fasttext\n",
      "  Running setup.py install for fasttext ... \u001b[?25ldone\n",
      "\u001b[?25hSuccessfully installed fasttext-0.9.1\n"
     ]
    }
   ],
   "source": [
    "!pip install fasttext"
   ]
  },
  {
   "cell_type": "code",
   "execution_count": 15,
   "metadata": {},
   "outputs": [
    {
     "name": "stderr",
     "output_type": "stream",
     "text": [
      "\n"
     ]
    },
    {
     "name": "stdout",
     "output_type": "stream",
     "text": [
      "[ 0.1743639  -0.7817916  -0.24616419 -0.01156415 -0.07600879 -0.0842642\n",
      "  0.14212248  0.22452301 -0.31397432 -0.11713884 -0.28759632 -0.15209016\n",
      " -0.11054951 -0.12030383 -0.32426217 -0.45531902 -0.20288399  0.68282366\n",
      " -0.01025043 -0.39958563 -0.06441876 -0.3568137  -0.33642107  0.24331342\n",
      " -0.62871826 -0.37913838 -0.23013517 -0.32640928 -0.28306362 -0.04336843\n",
      " -0.4205433  -0.35524622  0.36258218 -0.03363707  0.39069888 -0.62807715\n",
      " -0.05582381  0.53624886  0.07011648  0.23984833 -0.1314159  -0.2877831\n",
      " -0.32883877 -0.18838678  0.16652696  0.28536546  0.4498171   0.02313693\n",
      "  0.35487166  0.10588682]\n"
     ]
    }
   ],
   "source": [
    "#Another way to find document embedding using fasttext module..Method 2\n",
    "\n",
    "import numpy as np\n",
    "import fasttext\n",
    "model=fasttext.load_model('model.bin')\n",
    "\n",
    "#Firstly, get the claims of a particular Qid using qid_to_claims function..\n",
    "def qid_to_claims(qid):\n",
    "    \n",
    "    import requests\n",
    "\n",
    "    S = requests.Session()\n",
    "\n",
    "    URL = \"http://www.wikidata.org/w/api.php\"\n",
    "    PARAMS = {\n",
    "    \"action\": \"wbgetentities\",\n",
    "    \"ids\": qid,\n",
    "    \"props\": \"claims\",\n",
    "    \"format\": \"json\"\n",
    "         }\n",
    "\n",
    "    R = S.get(url=URL, params=PARAMS)\n",
    "    DATA = R.json()\n",
    "    dict=DATA['entities'][qid]['claims'].keys()\n",
    "\n",
    "    Claims=[]\n",
    "\n",
    "    for i in dict:\n",
    "         length= len(DATA['entities'][qid]['claims'][i])\n",
    "    \n",
    "         for j in range(0,length):\n",
    "            if('datavalue' in DATA['entities'][qid]['claims'][i][j]['mainsnak'].keys() ):\n",
    "                if(DATA['entities'][qid]['claims'][i][j]['mainsnak']['datavalue']['type']=='wikibase-entityid'):\n",
    "                    Claims.append(tuple((i, DATA['entities'][qid]['claims'][i][j]['mainsnak']['datavalue']['value']['id'])))\n",
    "            \n",
    "                else:\n",
    "                    Claims.append(tuple((i,\"\")))\n",
    "\n",
    "    return Claims\n",
    "\n",
    "claims=qid_to_claims('Q223') #As an example take qid=\"Q223\"\n",
    "embedding=[]\n",
    "count=0\n",
    "for i in range(len(claims)):\n",
    "        pid=claims[i][0]\n",
    "        qid=claims[i][1]\n",
    "        \n",
    "        if i==0:\n",
    "            embedding=np.array(model.get_word_vector(pid)) #Embedding is of type-numpy array.\n",
    "        else:\n",
    "            embedding=np.add(embedding,np.array(model.get_word_vector(pid)))\n",
    "        count=count+1\n",
    "        if qid!='':\n",
    "            embedding=np.add(embedding,np.array(model.get_word_vector(qid)))\n",
    "            count=count+1\n",
    "doc_embedding=np.divide(embedding,count)\n",
    "\n",
    "#document embedding of \"Q223\"\n",
    "print(doc_embedding)\n"
   ]
  },
  {
   "cell_type": "code",
   "execution_count": null,
   "metadata": {},
   "outputs": [],
   "source": []
  }
 ],
 "metadata": {
  "kernelspec": {
   "display_name": "Python 3",
   "language": "python",
   "name": "python3"
  },
  "language_info": {
   "codemirror_mode": {
    "name": "ipython",
    "version": 3
   },
   "file_extension": ".py",
   "mimetype": "text/x-python",
   "name": "python",
   "nbconvert_exporter": "python",
   "pygments_lexer": "ipython3",
   "version": "3.6.7"
  }
 },
 "nbformat": 4,
 "nbformat_minor": 2
}
