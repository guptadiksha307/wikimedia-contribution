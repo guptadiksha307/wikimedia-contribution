{
 "cells": [
  {
   "cell_type": "code",
   "execution_count": 9,
   "metadata": {},
   "outputs": [],
   "source": [
    "#Function that takes a Wikidata ID and returns a sequence of claims.\n",
    "\n",
    "def qid_to_claims(qid):\n",
    "    \n",
    "    import requests\n",
    "\n",
    "    S = requests.Session()\n",
    "\n",
    "    URL = \"http://www.wikidata.org/w/api.php\"\n",
    "    PARAMS = {\n",
    "    \"action\": \"wbgetentities\",\n",
    "    \"ids\": qid,\n",
    "    \"props\": \"claims\",\n",
    "    \"format\": \"json\"\n",
    "         }\n",
    "\n",
    "    R = S.get(url=URL, params=PARAMS)\n",
    "    DATA = R.json()\n",
    "    dict=DATA['entities'][qid]['claims'].keys()\n",
    "\n",
    "    Claims=[]\n",
    "\n",
    "    for i in dict:\n",
    "         length= len(DATA['entities'][qid]['claims'][i])\n",
    "    \n",
    "         for j in range(0,length):\n",
    "            if('datavalue' in DATA['entities'][qid]['claims'][i][j]['mainsnak'].keys() ):\n",
    "                if(DATA['entities'][qid]['claims'][i][j]['mainsnak']['datavalue']['type']=='wikibase-entityid'):\n",
    "                    Claims.append(tuple((i, DATA['entities'][qid]['claims'][i][j]['mainsnak']['datavalue']['value']['id'])))\n",
    "            \n",
    "                else:\n",
    "                    Claims.append(tuple((i,\"\")))\n",
    "\n",
    "    return Claims\n"
   ]
  },
  {
   "cell_type": "code",
   "execution_count": 10,
   "metadata": {},
   "outputs": [
    {
     "name": "stdout",
     "output_type": "stream",
     "text": [
      "[('P31', 'Q11446'), ('P458', ''), ('P373', ''), ('P729', ''), ('P176', 'Q11309941'), ('P18', ''), ('P7782', 'Q83904766'), ('P2043', ''), ('P1093', '')]\n"
     ]
    }
   ],
   "source": [
    "claims=qid_to_claims('Q52329548')\n",
    "print(claims)"
   ]
  },
  {
   "cell_type": "code",
   "execution_count": 11,
   "metadata": {},
   "outputs": [
    {
     "name": "stdout",
     "output_type": "stream",
     "text": [
      "[('P214', ''), ('P569', ''), ('P856', ''), ('P31', 'Q5'), ('P646', ''), ('P19', 'Q487977'), ('P27', 'Q30'), ('P1273', ''), ('P735', 'Q250267'), ('P735', 'Q16277795'), ('P69', 'Q1193547'), ('P106', 'Q6625963'), ('P106', 'Q18844224'), ('P106', 'Q36180'), ('P1233', ''), ('P1412', 'Q7976'), ('P1412', 'Q1860'), ('P18', ''), ('P172', 'Q49085'), ('P166', 'Q255032'), ('P166', 'Q2090893'), ('P166', 'Q255032'), ('P166', 'Q266012'), ('P166', 'Q607354'), ('P166', 'Q255032'), ('P166', 'Q54824268'), ('P373', ''), ('P244', ''), ('P1411', 'Q610903'), ('P1411', 'Q1056251'), ('P1411', 'Q1681198'), ('P1411', 'Q266012'), ('P1411', 'Q2090893'), ('P1411', 'Q255032'), ('P1411', 'Q898527'), ('P1411', 'Q3404815'), ('P1411', 'Q5182823'), ('P1411', 'Q17017638'), ('P1411', 'Q266012'), ('P1411', 'Q266012'), ('P1411', 'Q898527'), ('P1411', 'Q266012'), ('P1411', 'Q898527'), ('P1411', 'Q595998'), ('P1411', 'Q255032'), ('P1411', 'Q266012'), ('P1411', 'Q255032'), ('P1411', 'Q266012'), ('P1411', 'Q255032'), ('P1411', 'Q607354'), ('P227', ''), ('P345', ''), ('P648', ''), ('P742', ''), ('P213', ''), ('P5570', ''), ('P2963', ''), ('P691', ''), ('P1315', ''), ('P950', ''), ('P3630', ''), ('P1280', ''), ('P5714', ''), ('P2002', ''), ('P800', 'Q7742030'), ('P800', 'Q51844551'), ('P136', 'Q5967378'), ('P269', ''), ('P268', ''), ('P21', 'Q6581072'), ('P5408', ''), ('P5357', ''), ('P6553', 'L484'), ('P22', 'Q21995261'), ('P1343', 'Q67311526'), ('P734', 'Q71450605'), ('P7400', ''), ('P7704', ''), ('P7433', '')]\n"
     ]
    }
   ],
   "source": [
    "claims=qid_to_claims('Q2427544')\n",
    "print(claims)"
   ]
  },
  {
   "cell_type": "code",
   "execution_count": 13,
   "metadata": {},
   "outputs": [
    {
     "name": "stdout",
     "output_type": "stream",
     "text": [
      "('P1120', '')\n",
      "('P1120', '')\n",
      "('P1120', '')\n",
      "('P1120', '')\n",
      "('P1120', '')\n",
      "('P1120', '')\n",
      "('P1120', '')\n",
      "('P1120', '')\n",
      "('P1120', '')\n",
      "('P1120', '')\n",
      "('P1120', '')\n",
      "('P1120', '')\n",
      "('P1120', '')\n",
      "('P1120', '')\n",
      "('P1120', '')\n",
      "('P1120', '')\n",
      "('P1120', '')\n",
      "('P1120', '')\n",
      "('P1120', '')\n",
      "('P1120', '')\n",
      "('P1120', '')\n"
     ]
    }
   ],
   "source": [
    "claims=qid_to_claims('Q84104992')\n",
    "for i in claims:\n",
    "    if(i[0]==\"P1120\"):\n",
    "        print(i)"
   ]
  },
  {
   "cell_type": "code",
   "execution_count": null,
   "metadata": {},
   "outputs": [],
   "source": []
  }
 ],
 "metadata": {
  "kernelspec": {
   "display_name": "Python 3",
   "language": "python",
   "name": "python3"
  },
  "language_info": {
   "codemirror_mode": {
    "name": "ipython",
    "version": 3
   },
   "file_extension": ".py",
   "mimetype": "text/x-python",
   "name": "python",
   "nbconvert_exporter": "python",
   "pygments_lexer": "ipython3",
   "version": "3.6.7"
  }
 },
 "nbformat": 4,
 "nbformat_minor": 2
}
